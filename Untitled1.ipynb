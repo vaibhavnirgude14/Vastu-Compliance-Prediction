{
 "cells": [
  {
   "cell_type": "code",
   "execution_count": 1,
   "id": "7dcb332f-f18b-45a8-9d48-b3c9fe5ea6f1",
   "metadata": {},
   "outputs": [
    {
     "data": {
      "text/plain": [
       "[2]"
      ]
     },
     "execution_count": 1,
     "metadata": {},
     "output_type": "execute_result"
    }
   ],
   "source": [
    "l1=[]\n",
    "l1.append(2)\n",
    "l1"
   ]
  },
  {
   "cell_type": "code",
   "execution_count": 3,
   "id": "4bbd3363-af93-4a90-b8e5-49b1df87e78d",
   "metadata": {},
   "outputs": [
    {
     "ename": "TypeError",
     "evalue": "'int' object is not iterable",
     "output_type": "error",
     "traceback": [
      "\u001b[1;31m---------------------------------------------------------------------------\u001b[0m",
      "\u001b[1;31mTypeError\u001b[0m                                 Traceback (most recent call last)",
      "Cell \u001b[1;32mIn[3], line 1\u001b[0m\n\u001b[1;32m----> 1\u001b[0m l3\u001b[38;5;241m=\u001b[39ml1\u001b[38;5;241m.\u001b[39mextend(\u001b[38;5;241m2\u001b[39m)\n",
      "\u001b[1;31mTypeError\u001b[0m: 'int' object is not iterable"
     ]
    }
   ],
   "source": [
    "Write a program that creates a list of 10 integers. Then create two lists by\n",
    "\n",
    "name odd_list and even_list that have all odd and even values of the list respectively.\n"
   ]
  },
  {
   "cell_type": "code",
   "execution_count": 13,
   "id": "dc729f10-a069-4e77-bf32-8e399197a32e",
   "metadata": {},
   "outputs": [
    {
     "name": "stdin",
     "output_type": "stream",
     "text": [
      "ENter a range of list 5\n",
      "Enter numbers 1\n",
      "Enter numbers 2\n",
      "Enter numbers 3\n",
      "Enter numbers 4\n",
      "Enter numbers 5\n"
     ]
    }
   ],
   "source": [
    "n=int(input(\"ENter a range of list\"))\n",
    "l1=[]\n",
    "for i in range(n):\n",
    "    list=int(input(\"Enter numbers\"))\n",
    "    l1.append(list)\n"
   ]
  },
  {
   "cell_type": "code",
   "execution_count": 15,
   "id": "8a8fd747-c0b3-42f6-be8f-4a94bbbce405",
   "metadata": {},
   "outputs": [
    {
     "name": "stdout",
     "output_type": "stream",
     "text": [
      "[2, 4]\n",
      "[1, 3, 5]\n"
     ]
    }
   ],
   "source": [
    "odd_list=[]\n",
    "even_list=[]\n",
    "for i in l1:\n",
    "    if i%2==0:\n",
    "        even_list.append(i)\n",
    "    else:\n",
    "        odd_list.append(i)\n",
    "print(even_list)\n",
    "print(odd_list)"
   ]
  },
  {
   "cell_type": "code",
   "execution_count": 9,
   "id": "e0f733fa-1637-42c7-b3eb-a7d9bf52c602",
   "metadata": {},
   "outputs": [
    {
     "name": "stdin",
     "output_type": "stream",
     "text": [
      "ENter a range of list 1\n",
      "ENter a range of list 2\n",
      "ENter a range of list 3\n",
      "ENter a range of list 4\n",
      "ENter a range of list 5\n",
      "ENter a range of list 6\n",
      "ENter a range of list 7\n",
      "ENter a range of list 8\n",
      "ENter a range of list 9\n",
      "ENter a range of list 1\n"
     ]
    },
    {
     "name": "stdout",
     "output_type": "stream",
     "text": [
      "[1, 2, 3, 4, 5, 6, 7, 8, 9, 1]\n"
     ]
    }
   ],
   "source": [
    "l1=[]\n",
    "for i in range(0,10):\n",
    "    n=int(input(\"ENter a range of list\"))\n",
    "    l1.append(n)\n",
    "print(l1)"
   ]
  }
 ],
 "metadata": {
  "kernelspec": {
   "display_name": "Python 3 (ipykernel)",
   "language": "python",
   "name": "python3"
  },
  "language_info": {
   "codemirror_mode": {
    "name": "ipython",
    "version": 3
   },
   "file_extension": ".py",
   "mimetype": "text/x-python",
   "name": "python",
   "nbconvert_exporter": "python",
   "pygments_lexer": "ipython3",
   "version": "3.12.4"
  }
 },
 "nbformat": 4,
 "nbformat_minor": 5
}
